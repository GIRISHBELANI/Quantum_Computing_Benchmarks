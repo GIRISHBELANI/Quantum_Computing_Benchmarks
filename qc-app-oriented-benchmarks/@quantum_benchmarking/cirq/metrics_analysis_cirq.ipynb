{
 "cells": [
  {
   "cell_type": "markdown",
   "id": "932d2caa-acee-4b9c-a827-a711efbaecb3",
   "metadata": {},
   "source": [
    "## metrics analysis using Cirq"
   ]
  },
  {
   "cell_type": "markdown",
   "id": "d48b82f2-097d-468e-95ff-ab1d8914654e",
   "metadata": {},
   "source": [
    "<table>\n",
    "    <tr>\n",
    "        <th>Algorithm</th>\n",
    "        <th>Simulator</th>\n",
    "        <th>Min Qubits</th>\n",
    "        <th>Max Qubits</th>\n",
    "        <th>Avg Creation Time (sec)</th>\n",
    "        <th>Avg Execution Time (sec)</th>\n",
    "        <th>Avg Fidelity</th>\n",
    "        <th>Avg Circuit Depth</th>\n",
    "        <th>Volumetric Positioning</th>\n",
    "    </tr>\n",
    "    <tr>\n",
    "        <td>Deutsch-Jozsa</td>\n",
    "        <td></td>\n",
    "        <td>3</td>\n",
    "        <td>12</td>\n",
    "        <td></td>\n",
    "        <td><img src=\"https://example.com/image.png\" alt=\"Image Description\" style=\"width: auto; height: auto;\"></td>\n",
    "        <td></td>\n",
    "        <td></td>\n",
    "        <td></td>\n",
    "    </tr>\n",
    "    <!-- Add an empty row -->\n",
    "    <tr>\n",
    "        <td colspan=\"9\"></td>\n",
    "    </tr>\n",
    "    <tr>\n",
    "        <td>Bernstein-Algorithm</td>\n",
    "        <td></td>\n",
    "        <td>3</td>\n",
    "        <td>12</td>\n",
    "        <td></td>\n",
    "        <td></td>\n",
    "        <td></td>\n",
    "        <td></td>\n",
    "        <td></td>\n",
    "    </tr>\n",
    "</table>\n"
   ]
  },
  {
   "cell_type": "code",
   "execution_count": null,
   "id": "98d6c641-b8b0-476b-8d51-8ca4de36aa40",
   "metadata": {},
   "outputs": [],
   "source": []
  }
 ],
 "metadata": {
  "kernelspec": {
   "display_name": "Python 3 (ipykernel)",
   "language": "python",
   "name": "python3"
  },
  "language_info": {
   "codemirror_mode": {
    "name": "ipython",
    "version": 3
   },
   "file_extension": ".py",
   "mimetype": "text/x-python",
   "name": "python",
   "nbconvert_exporter": "python",
   "pygments_lexer": "ipython3",
   "version": "3.10.4"
  }
 },
 "nbformat": 4,
 "nbformat_minor": 5
}
