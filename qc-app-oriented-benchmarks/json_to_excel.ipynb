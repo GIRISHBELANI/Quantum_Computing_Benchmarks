{
 "cells": [
  {
   "cell_type": "code",
   "execution_count": null,
   "id": "859c8419-bfd6-4fca-b15f-728cb1f3ac54",
   "metadata": {},
   "outputs": [],
   "source": [
    "import sys\n",
    "sys.path[1:1] = [ \"_common\", \"../../_common\" ]\n",
    "import metrics as metrics\n",
    "\n",
    "# Define the benchmark folder and API as needed (leave blank to get json file from top-level __data folder)\n",
    "benchmark_folder = 'deutsch-jozsa'   \n",
    "api = 'qiskit'               #qiskit, cirq, braket, fake_backend, qiskit-statevector\n",
    "backend_id = 'qasm_simulator'       \n",
    "\n",
    "# Call the json_to_excel function\n",
    "metrics.json_to_excel(benchmark_folder, api, backend_id)"
   ]
  }
 ],
 "metadata": {
  "kernelspec": {
   "display_name": "Python 3 (ipykernel)",
   "language": "python",
   "name": "python3"
  },
  "language_info": {
   "codemirror_mode": {
    "name": "ipython",
    "version": 3
   },
   "file_extension": ".py",
   "mimetype": "text/x-python",
   "name": "python",
   "nbconvert_exporter": "python",
   "pygments_lexer": "ipython3",
   "version": "3.10.4"
  }
 },
 "nbformat": 4,
 "nbformat_minor": 5
}
