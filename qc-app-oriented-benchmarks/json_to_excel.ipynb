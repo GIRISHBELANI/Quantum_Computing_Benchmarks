{
 "cells": [
  {
   "cell_type": "code",
   "execution_count": 4,
   "id": "33d21b73-f994-4ebc-8eea-dc6b2b26e5b5",
   "metadata": {},
   "outputs": [
    {
     "name": "stdout",
     "output_type": "stream",
     "text": [
      "Data successfully written to DATA-deutsch-jozsa-qiskit-statevector_simulator.xlsx\n"
     ]
    }
   ],
   "source": [
    "import os\n",
    "import sys\n",
    "sys.path[1:1] = [ \"_common\", \"../../_common\" ]\n",
    "import metrics as metrics\n",
    "\n",
    "# Define the benchmark folder and API as needed (leave blank to get json file from top-level __data folder)\n",
    "benchmark_folder = 'deutsch-jozsa'   \n",
    "api = 'qiskit'               #qiskit, cirq, braket, fake_backend, qiskit-statevector\n",
    "backend_id = 'statevector_simulator'       \n",
    "\n",
    "# Call the json_to_excel function\n",
    "metrics.json_to_excel(benchmark_folder, api, backend_id)\n"
   ]
  },
  {
   "cell_type": "code",
   "execution_count": null,
   "id": "5d8ae634-4b70-4418-8b34-bc85cd640ffe",
   "metadata": {},
   "outputs": [],
   "source": []
  }
 ],
 "metadata": {
  "kernelspec": {
   "display_name": "Python 3 (ipykernel)",
   "language": "python",
   "name": "python3"
  },
  "language_info": {
   "codemirror_mode": {
    "name": "ipython",
    "version": 3
   },
   "file_extension": ".py",
   "mimetype": "text/x-python",
   "name": "python",
   "nbconvert_exporter": "python",
   "pygments_lexer": "ipython3",
   "version": "3.10.4"
  }
 },
 "nbformat": 4,
 "nbformat_minor": 5
}
